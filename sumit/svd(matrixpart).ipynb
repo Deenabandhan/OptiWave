{
 "cells": [
  {
   "cell_type": "code",
   "execution_count": 35,
   "id": "4b5b995e-b73c-42b8-9081-1792c97947a8",
   "metadata": {},
   "outputs": [
    {
     "name": "stdout",
     "output_type": "stream",
     "text": [
      "[[-0.75774021 -0.65255634]\n",
      " [-0.65255634  0.75774021]]\n",
      "\n",
      " [5.06081754 2.32123368]\n",
      "\n",
      " [[-0.70706625 -0.68628229 -0.17051081]\n",
      " [-0.19049723  0.41706613 -0.88868816]\n",
      " [-0.68100522  0.59587957  0.42562827]]\n",
      "\n",
      " [[5.06081754 0.         0.        ]\n",
      " [0.         2.32123368 0.        ]]\n",
      "\n",
      " [[ 3.  2.  2.]\n",
      " [ 2.  3. -1.]]\n"
     ]
    }
   ],
   "source": [
    "import numpy as np\n",
    "from scipy.linalg import svd\n",
    "from numpy import dot\n",
    "\n",
    "A = np.array([[3,2,2],[2,3,-1]])\n",
    "\n",
    "U, S, Vh = np.linalg.svd(A)\n",
    "\n",
    "print(U)\n",
    "print(\"\\n\",S)\n",
    "print(\"\\n\",Vh)\n",
    "S = np.diag(S)\n",
    "print(\"\\n\",sig)\n",
    "B=U.dot(sig.dot(Vh))\n",
    "\n",
    "print(\"\\n\",B)"
   ]
  },
  {
   "cell_type": "code",
   "execution_count": null,
   "id": "280bb80b-2175-48a9-9be1-f365655d98c4",
   "metadata": {},
   "outputs": [],
   "source": []
  }
 ],
 "metadata": {
  "kernelspec": {
   "display_name": "Python 3 (ipykernel)",
   "language": "python",
   "name": "python3"
  },
  "language_info": {
   "codemirror_mode": {
    "name": "ipython",
    "version": 3
   },
   "file_extension": ".py",
   "mimetype": "text/x-python",
   "name": "python",
   "nbconvert_exporter": "python",
   "pygments_lexer": "ipython3",
   "version": "3.12.8"
  }
 },
 "nbformat": 4,
 "nbformat_minor": 5
}
